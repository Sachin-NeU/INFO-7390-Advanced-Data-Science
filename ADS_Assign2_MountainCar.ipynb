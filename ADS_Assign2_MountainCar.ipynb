{
 "cells": [
  {
   "cell_type": "markdown",
   "metadata": {
    "colab_type": "text",
    "id": "of_96qIFq2sc"
   },
   "source": [
    "# <center>Reinforcement Learning</center>\n",
    "According to Wikipedia, Reinforcement learning (RL) is an area of machine learning concerned with how software agents should take actions in an environment so as to maximize some notion of cumulative reward. In recent years, we’ve seen a lot of improvements in this fascinating area of research. Examples include DeepMind and the Deep Q learning architecture in 2014, beating the champion of the game of Go with AlphaGo in 2016, OpenAI and the PPO in 2017, amongst others.\n",
    "\n",
    "**APPLICATIONS**\n",
    "<br>Traffic Light Control\n",
    "<br>Manufacturing\n",
    "<br>Robotics\n",
    "<br>Inventory Management\n",
    "<br>Games\n",
    "<br>Finance\n",
    "<br>Personalized Recommendations\n",
    "<br>Resources management in computer clusters\n",
    "\n",
    "**So, How Does Reinforcement Learning Work?**\n",
    "<br>Reinforcement learning involves an agent, a set of states S, and a set A of actions per state. By performing an action a = A, the agent transitions from state to state. Executing an action in a specific state provides the agent with a reward (a numerical score).\n",
    "<br>The goal of the agent is to maximize its total (future) reward. It does this by adding the maximum reward attainable from future states to the reward for achieving its current state, effectively influencing the current action by the potential future reward. This potential reward is a weighted sum of the expected values of the rewards of all future steps starting from the current state.\n",
    "<br>As an example, imagine an agent is trying to pick up a pen, and it fails. It tries again, fails. After repeating this process 1000 times, it finally succeeds. The agent has now learned how to pick up a pen. This is Reinforcement Learning in a nutshell, it’s a lot like how living creatures learn.\n",
    "\n",
    "There are 3 key terms in Reinforcement Learning.\n",
    "- **State:** Describes the current situation.\n",
    "- **Action:** What the agent can do in a particular situation\n",
    "- **Reward:** Feedback for whether a particular action in a given state was good or bad. Serves as performance metrics for RL environments\n",
    "\n",
    "<img src=\"mountain-car-v0.gif\" width=\"400\" align=\"center\">\n",
    "\n",
    "# <center>MountainCar-v0</center>\n",
    "Mountain car is on a one-dimensional track, positioned between two \"mountains\". The goal is to drive up the mountain on the right; however, the car's engine is not strong enough to scale the mountain in a single pass. Therefore, the only way to succeed is to drive back and forth to build up momentum.\n",
    "This is a classic reinforcement learning problem where the objective is to create an algorithm which learns to climb a steep hill to reach the goal marked by a flag. \n",
    "\n",
    "**Reward**\n",
    "- -1 for each time step, until the goal position of 0.5 is reached. There is no penalty for climbing the left hill, which upon reached acts as a wall.\n",
    "\n",
    "**Starting State**\n",
    "- Random position from -0.6 to -0.4 with no velocity.\n",
    "\n",
    "**Episode Termination**\n",
    "- The episode ends when you reach 0.5 position, or if 200 iterations are reached."
   ]
  },
  {
   "cell_type": "markdown",
   "metadata": {
    "colab_type": "text",
    "id": "7WPbTZcnq2sd"
   },
   "source": [
    "### Import all the libraries"
   ]
  },
  {
   "cell_type": "code",
   "execution_count": 2,
   "metadata": {
    "colab": {},
    "colab_type": "code",
    "id": "XgezcYSaq2se"
   },
   "outputs": [],
   "source": [
    "import numpy as np\n",
    "import gym\n",
    "import pandas as pd\n",
    "import random\n",
    "import matplotlib.pyplot as plt\n",
    "import time"
   ]
  },
  {
   "cell_type": "code",
   "execution_count": 3,
   "metadata": {
    "colab": {
     "base_uri": "https://localhost:8080/",
     "height": 51
    },
    "colab_type": "code",
    "executionInfo": {
     "elapsed": 902,
     "status": "ok",
     "timestamp": 1583867083152,
     "user": {
      "displayName": ". Sachin",
      "photoUrl": "",
      "userId": "12002971990903653635"
     },
     "user_tz": 240
    },
    "id": "TrM8CY26RnDo",
    "outputId": "34a6661a-d6ef-437b-aea0-6fd1f23caa82"
   },
   "outputs": [
    {
     "name": "stderr",
     "output_type": "stream",
     "text": [
      "C:\\Users\\Win10\\Anaconda3\\lib\\site-packages\\gym\\logger.py:30: UserWarning: \u001b[33mWARN: Box bound precision lowered by casting to float32\u001b[0m\n",
      "  warnings.warn(colorize('%s: %s'%('WARN', msg % args), 'yellow'))\n"
     ]
    }
   ],
   "source": [
    "env = gym.make(\"MountainCar-v0\")\n"
   ]
  },
  {
   "cell_type": "markdown",
   "metadata": {
    "colab_type": "text",
    "id": "kaPA3rz5q2sm"
   },
   "source": [
    "## Reset Environment\n",
    "Resetting the environment will start the car from any random position between -0.6 and -0.4 with no velocity"
   ]
  },
  {
   "cell_type": "code",
   "execution_count": 4,
   "metadata": {
    "colab": {
     "base_uri": "https://localhost:8080/",
     "height": 34
    },
    "colab_type": "code",
    "executionInfo": {
     "elapsed": 306,
     "status": "ok",
     "timestamp": 1583867084726,
     "user": {
      "displayName": ". Sachin",
      "photoUrl": "",
      "userId": "12002971990903653635"
     },
     "user_tz": 240
    },
    "id": "p6Q2RxLMRq5o",
    "outputId": "0755d4b2-251f-4fa4-bcc0-da5cfd7b7257"
   },
   "outputs": [
    {
     "data": {
      "text/plain": [
       "array([-0.53257325,  0.        ])"
      ]
     },
     "execution_count": 4,
     "metadata": {},
     "output_type": "execute_result"
    }
   ],
   "source": [
    "env.reset()"
   ]
  },
  {
   "cell_type": "code",
   "execution_count": 5,
   "metadata": {
    "colab": {
     "base_uri": "https://localhost:8080/",
     "height": 17
    },
    "colab_type": "code",
    "executionInfo": {
     "elapsed": 236,
     "status": "ok",
     "timestamp": 1583867089773,
     "user": {
      "displayName": ". Sachin",
      "photoUrl": "",
      "userId": "12002971990903653635"
     },
     "user_tz": 240
    },
    "id": "YD8EsaBpq2sr",
    "outputId": "c9428e72-0338-4077-8434-e3de7a560571"
   },
   "outputs": [
    {
     "data": {
      "text/html": [
       "<style>\n",
       "    table {float:left}\n",
       "</style>\n",
       "<!Comment: to shift below table in markdown cell to left>\n"
      ],
      "text/plain": [
       "<IPython.core.display.HTML object>"
      ]
     },
     "metadata": {},
     "output_type": "display_data"
    }
   ],
   "source": [
    "%%html\n",
    "<style>\n",
    "    table {float:left}\n",
    "</style>\n",
    "<!Comment: to shift below table in markdown cell to left>\n"
   ]
  },
  {
   "cell_type": "markdown",
   "metadata": {
    "colab_type": "text",
    "id": "6_G3ewqnq2sv"
   },
   "source": [
    "### Action space\n",
    "Like every other Reinforcement Learning environments, MountainCar also has action space. To be precise, it has 3 discrete actions: push left, push right, no push. By default, these 3 actions are represented by integers: 0, 1 and 2.\n",
    "\n",
    "Type: Discrete(3)\n",
    "\n",
    "\n",
    "| Num |\tAction   |\n",
    "|:----|:----------|\n",
    "|0\t  |push left |\n",
    "|1\t  |no push   |\n",
    "|2\t  |push right|"
   ]
  },
  {
   "cell_type": "code",
   "execution_count": 6,
   "metadata": {
    "colab": {
     "base_uri": "https://localhost:8080/",
     "height": 51
    },
    "colab_type": "code",
    "executionInfo": {
     "elapsed": 225,
     "status": "ok",
     "timestamp": 1583867092194,
     "user": {
      "displayName": ". Sachin",
      "photoUrl": "",
      "userId": "12002971990903653635"
     },
     "user_tz": 240
    },
    "id": "Vyjm3m4TRvuB",
    "outputId": "b3abde40-0749-4115-aa99-bd6d243f873f"
   },
   "outputs": [
    {
     "name": "stdout",
     "output_type": "stream",
     "text": [
      "Total action count:  3\n",
      "Type of action space:  Discrete(3)\n"
     ]
    }
   ],
   "source": [
    "action_space = env.action_space.n\n",
    "print(\"Total action count: \", action_space)\n",
    "print(\"Type of action space: \", env.action_space)"
   ]
  },
  {
   "cell_type": "markdown",
   "metadata": {
    "colab_type": "text",
    "id": "SzC1zmBUq2sz"
   },
   "source": [
    "### Observation Space\n",
    "All Reinforcement Learning environments have a state space/observation space i.e.; the set of all possible states of the environment where the agent can be at a given instant. Mountain car state space represents a 2-dimensional box, where each state observation is a vector of 2 (float) values - position and velocity. The state space is continuous value, where the first element of the state vector -> position, can take any value ranging from -1.2 to 0.6 and the second element -> velocity, can take any value ranging from -0.07 to 0.07\n",
    "\n",
    "Type: Box(2)\n",
    "\n",
    "|Num\t|Observation\t|Min\t|Max\n",
    "|-|-|-|-|\n",
    "|0\t|position\t|-1.2\t|0.6\n",
    "|1\t|velocity\t|-0.07\t|0.07"
   ]
  },
  {
   "cell_type": "code",
   "execution_count": 7,
   "metadata": {
    "colab": {
     "base_uri": "https://localhost:8080/",
     "height": 68
    },
    "colab_type": "code",
    "executionInfo": {
     "elapsed": 263,
     "status": "ok",
     "timestamp": 1583867093447,
     "user": {
      "displayName": ". Sachin",
      "photoUrl": "",
      "userId": "12002971990903653635"
     },
     "user_tz": 240
    },
    "id": "XmV7Y6XqRzPW",
    "outputId": "052babdd-23e1-4419-ba85-1c33307307e8"
   },
   "outputs": [
    {
     "name": "stdout",
     "output_type": "stream",
     "text": [
      "Observation space:  Box(2,)\n",
      "Max values of observation space:  [0.6  0.07]\n",
      "Min values of observation space:  [-1.2  -0.07]\n"
     ]
    }
   ],
   "source": [
    "observation_space = env.observation_space\n",
    "print(\"Observation space: \", observation_space)\n",
    "\n",
    "observation_space_high = env.observation_space.high\n",
    "print(\"Max values of observation space: \", observation_space_high)\n",
    "\n",
    "observation_space_low = env.observation_space.low\n",
    "print(\"Min values of observation space: \", observation_space_low)"
   ]
  },
  {
   "cell_type": "markdown",
   "metadata": {
    "colab_type": "text",
    "id": "-HjyMR8nq2s5"
   },
   "source": [
    "### Q-table\n",
    "This environment has continuous state space, which means that there are infinitely many state-action pairs. Hence, the Q-table will be of infinite dimension.\n",
    "<br>One way to address this problem is to use deep Q-networks (DQNs). DQNs combine deep learning with Q-learning by using a deep neural network as an approximator for the Q-function. DQNs have been successfully applied to developing artificial intelligence capable of playing Atari video games.\n",
    "<br>However, for a problem as simple as the Mountain Car problem, this may be a bit of overkill.\n",
    "<br>An alternative approach is to just discretize the state space. One simple way in which this can be done is to round the first element of the state vector to the nearest 0.1 and the second element to the nearest 0.01, and then (for convenience) multiply the first element by 10 and the second by 100.\n",
    "This reduces the number of state-action pairs down to 855, which now makes it possible to satisfy the condition required for Q-learning to converge."
   ]
  },
  {
   "cell_type": "code",
   "execution_count": 12,
   "metadata": {
    "colab": {
     "base_uri": "https://localhost:8080/",
     "height": 323
    },
    "colab_type": "code",
    "executionInfo": {
     "elapsed": 227,
     "status": "ok",
     "timestamp": 1583867094885,
     "user": {
      "displayName": ". Sachin",
      "photoUrl": "",
      "userId": "12002971990903653635"
     },
     "user_tz": 240
    },
    "id": "JWkhJStRsJwJ",
    "outputId": "c53d2451-f57e-4c90-e7c3-73b14e38b85b"
   },
   "outputs": [
    {
     "name": "stdout",
     "output_type": "stream",
     "text": [
      "[18.00000072 14.00000006]\n",
      "[19 15]\n",
      "(19, 15, 3) \n",
      " [[[0. 0. 0.]\n",
      "  [0. 0. 0.]\n",
      "  [0. 0. 0.]\n",
      "  [0. 0. 0.]\n",
      "  [0. 0. 0.]\n",
      "  [0. 0. 0.]\n",
      "  [0. 0. 0.]\n",
      "  [0. 0. 0.]\n",
      "  [0. 0. 0.]\n",
      "  [0. 0. 0.]\n",
      "  [0. 0. 0.]\n",
      "  [0. 0. 0.]\n",
      "  [0. 0. 0.]\n",
      "  [0. 0. 0.]\n",
      "  [0. 0. 0.]]]\n"
     ]
    }
   ],
   "source": [
    "## determine the size of discretized state space\n",
    "\n",
    "num_states = (env.observation_space.high - env.observation_space.low) * np.array([10,100])\n",
    "print(num_states)\n",
    "num_states = np.round(num_states, 0).astype(int) + 1\n",
    "print(num_states)\n",
    "\n",
    "Qtable = np.zeros((num_states[0], num_states[1], env.action_space.n))  \n",
    "print(Qtable.shape, \"\\n\", Qtable[:1])\n",
    "    \n",
    "    "
   ]
  },
  {
   "cell_type": "markdown",
   "metadata": {
    "colab_type": "text",
    "id": "PsQiXnM2q2s-"
   },
   "source": [
    "### Q-Learning \n",
    "<br>Q-learning is a model-free reinforcement learning algorithm. The goal of Q-learning is to learn a policy, which tells an agent what action to take under what circumstances. It does not require a model (hence the connotation \"model-free\") of the environment, and it can handle problems with stochastic transitions and rewards, without requiring adaptations.\n",
    "\n",
    "For any finite Markov decision process (FMDP), Q-learning finds a policy that is optimal in the sense that it maximizes the expected value of the total reward over any and all successive steps, starting from the current state. Q-learning can identify an optimal action-selection policy for any given FMDP, given infinite exploration time and a partly-random policy. \"Q\" names the function that returns the reward used to provide the reinforcement and can be said to stand for the \"quality\" of an action taken in a given state.\n",
    "\n",
    "The algorithm is as follows:\n",
    "1. Initialize Q(s1, s2, a) by setting all of the elements in Q-table to zero;\n",
    "2. Observe the current state, (s1, s2);\n",
    "3. Based on the exploration strategy, choose an action to take - a;\n",
    "4. Take action a and observe the resulting reward, r, and the new state of the environment, (s1’, s2’);\n",
    "5. Update Q(s1, s2, a) based on the update rule:\n",
    "<br>Q’(s1, s2, a) = (1 — w)*Q(s1, s2, a) + w*(r+d*Q(s1’, s2’, argmax a’ Q(s1’, s2’, a’)))\n",
    "<br>Where w is the learning rate and d is the discount rate;\n",
    "6. Repeat steps 2–5 until convergence.\n",
    "\n",
    "The core of this algorithm is the Bellman equation:\n",
    "<img src=\"bellman_equation.png\" width=\"800\" align=\"left\"><br><br><br><br>\n",
    "<br>\n",
    "<br><br>\n",
    "<br>\n",
    "<br>**Learning Rate**\n",
    "<br>The learning rate or step size determines to what extent newly acquired information overrides old information. A factor of 0 makes the agent learn nothing (exclusively exploiting prior knowledge), while a factor of 1 makes the agent consider only the most recent information (ignoring prior knowledge to explore possibilities). In fully deterministic environments, a learning rate of value equal to 1 is optimal. When the problem is stochastic, the algorithm converges under some technical conditions on the learning rate that require it to decrease to zero. In practice, often a constant learning rate is used, such as learning rate = 0.1 for all t.\n",
    "\n",
    "<br>**Discount factor**\n",
    "<br>The discount factor, gamma,  determines the importance of future rewards. A factor of 0 will make the agent \"myopic\" (or short-sighted) by only considering current rewards, while a factor approaching 1 will make it strive for a long-term high reward. If the discount factor meets or exceeds 1, the action values may diverge. For gamma = 1, without a terminal state, or if the agent never reaches one, all environment histories become infinitely long, and utilities with additive, undiscounted rewards generally become infinite. Even with a discount factor only slightly lower than 1, Q-function learning leads to propagation of errors and instabilities when the value function is approximated with an artificial neural network. In that case, starting with a lower discount factor and increasing it towards its final value accelerates learning.\n",
    "\n",
    "<br>**Initial conditions (Q0)**\n",
    "<br>Since Q-learning is an iterative algorithm, it implicitly assumes an initial condition before the first update occurs. High initial values, also known as \"optimistic initial conditions\", can encourage exploration: no matter what action is selected, the update rule will cause it to have lower values than the other alternative, thus increasing their choice probability. The first reward r can be used to reset the initial conditions. According to this idea, the first time an action is taken the reward is used to set the value of Q. This allows immediate learning in case of fixed deterministic rewards. A model that incorporates reset of initial conditions (RIC) is expected to predict participants' behavior better than a model that assumes any arbitrary initial condition (AIC). RIC seems to be consistent with human behaviour in repeated binary choice experiments\n",
    "\n",
    "**Expected lifetime value**\n",
    "<br>RL agents learn to maximize cumulative future reward.\n",
    "<br><img src=\"Rewards.jpg\" width=\"400\" align=\"center\">\n",
    "<br>If we let this series go on to infinity, then we might end up with infinite return, which really doesn’t make a lot of sense for our definition of the problem. Therefore, this equation only makes sense if we expect the series of rewards to end. More common than using future cumulative reward as return is using future cumulative discounted reward:\n",
    "<br><img src=\"Rewards1.jpg\" width=\"400\" align=\"center\">"
   ]
  },
  {
   "cell_type": "markdown",
   "metadata": {},
   "source": [
    "## Baseline model"
   ]
  },
  {
   "cell_type": "code",
   "execution_count": 17,
   "metadata": {
    "colab": {},
    "colab_type": "code",
    "id": "C1YFJ9IZR5xp"
   },
   "outputs": [],
   "source": [
    "## Baseline parameters\n",
    "\n",
    "num_episodes = 5000\n",
    "total_test_episode = 100\n",
    "max_steps_per_episode = 99\n",
    "\n",
    "learning_rate = 0.7\n",
    "discount_rate = 0.8\n",
    "\n",
    "exploration_rate = 1\n",
    "max_exploration_rate = 1\n",
    "min_exploration_rate = 0.01\n",
    "exploration_decay_rate = 0.01"
   ]
  },
  {
   "cell_type": "code",
   "execution_count": 10,
   "metadata": {
    "colab": {
     "base_uri": "https://localhost:8080/",
     "height": 102
    },
    "colab_type": "code",
    "executionInfo": {
     "elapsed": 33986,
     "status": "ok",
     "timestamp": 1583867139269,
     "user": {
      "displayName": ". Sachin",
      "photoUrl": "",
      "userId": "12002971990903653635"
     },
     "user_tz": 240
    },
    "id": "lzrH3MaHTCQy",
    "outputId": "392ce5b6-f787-4d8a-95e2-4a3058961a87"
   },
   "outputs": [
    {
     "name": "stdout",
     "output_type": "stream",
     "text": [
      "1000 :  -99.0\n",
      "2000 :  -99.0\n",
      "3000 :  -99.0\n",
      "4000 :  -99.0\n",
      "5000 :  -99.0\n"
     ]
    }
   ],
   "source": [
    "total_rewards = []\n",
    "\n",
    "for episode in range(num_episodes):\n",
    "    state = env.reset()\n",
    "\n",
    "    done = False\n",
    "    rewards_current_episode = 0\n",
    "\n",
    "    # Discretize state\n",
    "    state_adj = (state - env.observation_space.low)*np.array([10, 100])\n",
    "    state_adj = np.round(state_adj, 0).astype(int)\n",
    "\n",
    "    for step in range(max_steps_per_episode):\n",
    "\n",
    "        if episode >= (num_episodes -10):\n",
    "            env.render()\n",
    "\n",
    "        ## exploration-exploitation tradeoff\n",
    "        epsilon_threshold = random.uniform(0,1)\n",
    "        if epsilon_threshold > exploration_rate:\n",
    "            action = np.argmax(Qtable[state_adj[0], state_adj[1], :])\n",
    "        else:\n",
    "            action = env.action_space.sample()\n",
    "\n",
    "        new_state, rewards, done, info = env.step(action)\n",
    "\n",
    "        # Discretize state2\n",
    "        state2_adj = (new_state - env.observation_space.low)*np.array([10, 100])\n",
    "        state2_adj = np.round(state2_adj, 0).astype(int)\n",
    "\n",
    "        ## update Q table\n",
    "        Qtable[state_adj[0], state_adj[1], action] = Qtable[state_adj[0], state_adj[1], action] * (1 - learning_rate) + \\\n",
    "        learning_rate * (rewards + discount_rate * np.max(Qtable[state2_adj[0], state2_adj[1]]))\n",
    "\n",
    "        ## update variables\n",
    "        rewards_current_episode += rewards\n",
    "        state_adj = state2_adj\n",
    "\n",
    "        if done == True:\n",
    "            print(\"Reached mountain top: Goal achieved\")\n",
    "            break\n",
    "\n",
    "    exploration_rate = min_exploration_rate + (max_exploration_rate - min_exploration_rate) * np.exp(-exploration_decay_rate * episode)\n",
    "    total_rewards.append(rewards_current_episode)\n",
    "    \n",
    "    \n",
    "env.close()\n",
    "rewards_per_thousand_episodes = np.split(np.array(total_rewards), num_episodes/1000)\n",
    "count = 1000\n",
    "for r in rewards_per_thousand_episodes:\n",
    "    print(count,\": \", sum(r)/1000)\n",
    "    count +=1000\n",
    "\n",
    "\n"
   ]
  },
  {
   "cell_type": "code",
   "execution_count": 18,
   "metadata": {
    "colab": {
     "base_uri": "https://localhost:8080/",
     "height": 282
    },
    "colab_type": "code",
    "executionInfo": {
     "elapsed": 396,
     "status": "ok",
     "timestamp": 1583867174871,
     "user": {
      "displayName": ". Sachin",
      "photoUrl": "",
      "userId": "12002971990903653635"
     },
     "user_tz": 240
    },
    "id": "BGDsKav3wwdP",
    "outputId": "4c28321d-6b39-4d46-e62a-175c02fba870"
   },
   "outputs": [
    {
     "data": {
      "text/plain": [
       "Text(0.5, 1.0, 'Episodes vd Rewards')"
      ]
     },
     "execution_count": 18,
     "metadata": {},
     "output_type": "execute_result"
    },
    {
     "data": {
      "image/png": "[encoded data removed]",
      "text/plain": [
       "<Figure size 432x288 with 1 Axes>"
      ]
     },
     "metadata": {
      "needs_background": "light"
     },
     "output_type": "display_data"
    }
   ],
   "source": [
    "plt.plot(range(num_episodes), total_rewards)\n",
    "plt.xlabel(\"Episodes\")\n",
    "plt.ylabel(\"Rewards\")\n",
    "plt.title(\"Episodes vs Rewards\")"
   ]
  },
  {
   "cell_type": "markdown",
   "metadata": {},
   "source": [
    "The base line model didn't achieve its goal as the average reward is -99 which means for each episodes it went on for total specified number of steps i.e.; 99 and not even once reached its goal, which is the top of the mountain (position = 0.5)\n",
    "We need to try different values of paramters (learning rate, discount rate, epsilon, epsilon decay rate) to optimize the model so that it eventually learns to reach its goal."
   ]
  },
  {
   "cell_type": "markdown",
   "metadata": {
    "colab_type": "text",
    "id": "qqgpmIUxq2tI"
   },
   "source": [
    "## Optimized model"
   ]
  },
  {
   "cell_type": "code",
   "execution_count": null,
   "metadata": {
    "colab": {},
    "colab_type": "code",
    "id": "tUZ909Myq2tO"
   },
   "outputs": [],
   "source": [
    "## Define Q-learning function\n",
    "\n",
    "def QLearning(env, learningRate, discount, epsilon, max_exploration_rate, min_exploration_rate, exploration_decay_rate, episodes):\n",
    "       \n",
    "    # Initialize variables to track rewards\n",
    "    reward_list = []\n",
    "    ave_reward_list = []\n",
    "    \n",
    "        \n",
    "    ##initialize Qtable\n",
    "    Q = np.zeros((num_states[0], num_states[1], env.action_space.n)) \n",
    "    #Qtable = np.random.uniform(low = -1, high = 1, size = (num_states[0], num_states[1], env.action_space.n))\n",
    "    \n",
    "    for i in range(episodes):\n",
    "        \n",
    "        # initialize parameters\n",
    "        done = False\n",
    "        tot_reward, reward = 0,0\n",
    "        state = env.reset()\n",
    "        \n",
    "        # Discretize state\n",
    "        state_adj = (state - env.observation_space.low)*np.array([10, 100])\n",
    "        state_adj = np.round(state_adj, 0).astype(int)\n",
    "        \n",
    "        while done != True:\n",
    "            # Render environment for last ten episodes\n",
    "            if i >= (episodes - 20):\n",
    "                env.render()\n",
    "                \n",
    "            # Determine next action - epsilon greedy strategy\n",
    "            if np.random.random() > epsilon:\n",
    "                action = np.argmax(Qtable[state_adj[0], state_adj[1]]) \n",
    "            else:\n",
    "                action = np.random.randint(0, env.action_space.n)\n",
    "                \n",
    "            # Get next state and reward\n",
    "            state2, reward, done, info = env.step(action) \n",
    "            \n",
    "            # Discretize state2\n",
    "            state2_adj = (state2 - env.observation_space.low)*np.array([10, 100])\n",
    "            state2_adj = np.round(state2_adj, 0).astype(int)\n",
    "            \n",
    "            #Allow for terminal states\n",
    "            if done and state2[0] >= 0.5:\n",
    "                Qtable[state_adj[0], state_adj[1], action] = reward\n",
    "                #print(\"Reached GOAL!!\",reward)\n",
    "                #time.sleep(2)\n",
    "                break\n",
    "                \n",
    "            # Adjust Q value for current state\n",
    "            else:\n",
    "                Qtable[state_adj[0], state_adj[1], action] = Qtable[state_adj[0], state_adj[1], action] * (1 - learningRate) + \\\n",
    "        learningRate * (reward + discount * np.max(Qtable[state2_adj[0], state2_adj[1]]))\n",
    "                                     \n",
    "            # Update variables\n",
    "            tot_reward += reward\n",
    "            state_adj = state2_adj\n",
    "            \n",
    "        epsilon = min_exploration_rate + (max_exploration_rate - min_exploration_rate) * np.exp(-exploration_decay_rate*episodes)\n",
    "        \n",
    "        \n",
    "        # Track rewards\n",
    "        reward_list.append(tot_reward)\n",
    "                \n",
    "    env.close()\n",
    "    \n",
    "    return (np.mean(reward_list))\n",
    "    \n",
    "    \n",
    "#rewards = QLearning(env, learning_rate, discount_rate, epsilon, 0, num_episodes) \n",
    "    \n",
    "    "
   ]
  },
  {
   "cell_type": "code",
   "execution_count": null,
   "metadata": {
    "colab": {
     "base_uri": "https://localhost:8080/",
     "height": 629
    },
    "colab_type": "code",
    "executionInfo": {
     "elapsed": 4936224,
     "status": "ok",
     "timestamp": 1583874119797,
     "user": {
      "displayName": ". Sachin",
      "photoUrl": "",
      "userId": "12002971990903653635"
     },
     "user_tz": 240
    },
    "id": "fKKThhYhq2tQ",
    "outputId": "8831f2ee-f839-425d-e991-bfc80592ca07"
   },
   "outputs": [
    {
     "name": "stdout",
     "output_type": "stream",
     "text": [
      "0.3 0.7 0.9 0.01 -200.0\n",
      "0.3 0.7 0.9 0.001 -200.0\n",
      "0.3 0.7 1 0.01 -200.0\n",
      "0.3 0.7 1 0.001 -200.0\n",
      "0.3 0.8 0.9 0.01 -187.3095\n",
      "0.3 0.8 0.9 0.001 -190.5003\n",
      "0.3 0.8 1 0.01 -188.5596\n",
      "0.3 0.8 1 0.001 -189.9571\n",
      "0.3 0.9 0.9 0.01 -183.1428\n",
      "0.3 0.9 0.9 0.001 -180.7016\n",
      "0.3 0.9 1 0.01 -185.5995\n",
      "0.3 0.9 1 0.001 -184.7382\n",
      "0.5 0.7 0.9 0.01 -199.5697\n",
      "0.5 0.7 0.9 0.001 -199.9935\n",
      "0.5 0.7 1 0.01 -199.976\n",
      "0.5 0.7 1 0.001 -199.9833\n",
      "0.5 0.8 0.9 0.01 -197.176\n",
      "0.5 0.8 0.9 0.001 -200.0\n",
      "0.5 0.8 1 0.01 -200.0\n",
      "0.5 0.8 1 0.001 -200.0\n",
      "0.5 0.9 0.9 0.01 -192.2735\n",
      "0.5 0.9 0.9 0.001 -193.3227\n",
      "0.5 0.9 1 0.01 -191.7202\n",
      "0.5 0.9 1 0.001 -194.235\n",
      "0.9 0.7 0.9 0.01 -199.9984\n",
      "0.9 0.7 0.9 0.001 -200.0\n",
      "0.9 0.7 1 0.01 -200.0\n",
      "0.9 0.7 1 0.001 -200.0\n",
      "0.9 0.8 0.9 0.01 -199.9978\n",
      "0.9 0.8 0.9 0.001 -200.0\n",
      "0.9 0.8 1 0.01 -200.0\n",
      "0.9 0.8 1 0.001 -200.0\n",
      "0.9 0.9 0.9 0.01 -198.3096\n",
      "0.9 0.9 0.9 0.001 -198.7666\n",
      "0.9 0.9 1 0.01 -198.7205\n",
      "0.9 0.9 1 0.001 -198.0296\n"
     ]
    }
   ],
   "source": [
    "num_episodes = 10000\n",
    "max_steps_per_episode = 200\n",
    "\n",
    "learning_rate = [0.3,0.5,0.9]\n",
    "discount_rate = [0.7,0.8,0.9]\n",
    "\n",
    "exploration_rate = [0.9, 1]\n",
    "max_exploration_rate = 1\n",
    "min_exploration_rate = 0.01\n",
    "exploration_decay_rate = [0.01, 0.001]\n",
    "\n",
    "df = pd.DataFrame(columns=[\"Learning Rate\", \"Discount Rate\", \"Epsilon\", \"Epsilon Decay Rate\", \"Rewards\"])\n",
    "\n",
    "for lr in learning_rate:\n",
    "    for dr in discount_rate:\n",
    "        for epsi in exploration_rate:\n",
    "            for edr in exploration_decay_rate:\n",
    "                rewards = QLearning(env, lr, dr, epsi, max_exploration_rate, min_exploration_rate, edr, num_episodes) \n",
    "                df = df.append({\"Learning Rate\": lr, \"Discount Rate\":dr, \"Epsilon\":epsi, \"Epsilon Decay Rate\":edr, \"Rewards\":rewards}, ignore_index=True)\n",
    "                print(\"{} {} {} {} {}\".format(lr, dr, epsi, edr, rewards))\n",
    "    "
   ]
  },
  {
   "cell_type": "markdown",
   "metadata": {
    "colab": {},
    "colab_type": "code",
    "id": "2MwedvgYq2tT",
    "outputId": "e6680331-3f76-4689-a91f-3e15c7ffb93a"
   },
   "source": [
    "We chose different paramter values and tried them against our model. We have considered the generated reward by the model as our performace evaluation metric. \n",
    "After executing above function we found that hyperparamters for our optimized model:\n",
    "- **Learning Rate:** 0.3\n",
    "- **Discount Rate:** 0.9\n",
    "- **Epsilon:** 0.9\n",
    "- **Epsilon Decay Rate:** 0.001"
   ]
  },
  {
   "cell_type": "code",
   "execution_count": 29,
   "metadata": {
    "colab": {
     "base_uri": "https://localhost:8080/",
     "height": 204
    },
    "colab_type": "code",
    "executionInfo": {
     "elapsed": 133666,
     "status": "ok",
     "timestamp": 1583883608444,
     "user": {
      "displayName": ". Sachin",
      "photoUrl": "",
      "userId": "12002971990903653635"
     },
     "user_tz": 240
    },
    "id": "zl1ZLPquq2tY",
    "outputId": "6091db1f-51a9-45a5-b430-a6f9bef1f141"
   },
   "outputs": [
    {
     "name": "stdout",
     "output_type": "stream",
     "text": [
      "Episode 1000 Average Reward: -184.729\n",
      "Episode 2000 Average Reward: -172.624\n",
      "Episode 3000 Average Reward: -166.269\n",
      "Episode 4000 Average Reward: -177.342\n",
      "Episode 5000 Average Reward: -158.644\n",
      "Episode 6000 Average Reward: -165.551\n",
      "Episode 7000 Average Reward: -177.381\n",
      "***** Reached GOAL *****\n",
      "***** Reached GOAL *****\n",
      "***** Reached GOAL *****\n",
      "***** Reached GOAL *****\n",
      "***** Reached GOAL *****\n",
      "***** Reached GOAL *****\n",
      "Episode 8000 Average Reward: -160.205\n",
      "\n",
      "Average number of steps taken per episode:  170.343125\n",
      "\n",
      "Epsilon value:  0.010332108001623487\n"
     ]
    },
    {
     "data": {
      "text/plain": [
       "-170.343125"
      ]
     },
     "execution_count": 29,
     "metadata": {},
     "output_type": "execute_result"
    },
    {
     "data": {
      "image/png": "[encoded data removed]",
      "text/plain": [
       "<Figure size 1080x576 with 1 Axes>"
      ]
     },
     "metadata": {
      "needs_background": "light"
     },
     "output_type": "display_data"
    }
   ],
   "source": [
    "## Define Q-learning function\n",
    "\n",
    "def QLearning(env, learningRate, discount, epsilon, max_exploration_rate, min_exploration_rate, exploration_decay_rate, episodes):\n",
    "       \n",
    "    # Initialize variables to track rewards\n",
    "    reward_list = []\n",
    "    reward_list1 = []\n",
    "    ave_reward_list = []\n",
    "    epsilon_list = []\n",
    "    \n",
    "    # Initialize variable to track number of steps\n",
    "    total_steps = []\n",
    "    \n",
    "    ##initialize Qtable\n",
    "    Q = np.zeros((num_states[0], num_states[1], env.action_space.n)) \n",
    "    \n",
    "    for i in range(episodes):\n",
    "        \n",
    "        # initialize parameters\n",
    "        done = False\n",
    "        tot_reward, reward = 0,0\n",
    "        state = env.reset()\n",
    "        epsilon_list.append(epsilon)\n",
    "        \n",
    "        # Discretize state\n",
    "        state_adj = (state - env.observation_space.low)*np.array([10, 100])\n",
    "        state_adj = np.round(state_adj, 0).astype(int)\n",
    "        \n",
    "        # initialize steps\n",
    "        steps = 0\n",
    "        \n",
    "        while done != True:\n",
    "            # Render environment for last ten episodes\n",
    "            if i >= (episodes - 10):\n",
    "                env.render()\n",
    "                                \n",
    "            # Determine next action - epsilon greedy strategy\n",
    "            if np.random.random() > epsilon:\n",
    "                action = np.argmax(Qtable[state_adj[0], state_adj[1]]) \n",
    "            else:\n",
    "                action = np.random.randint(0, env.action_space.n)\n",
    "                \n",
    "            # Get next state and reward\n",
    "            state2, reward, done, info = env.step(action) \n",
    "            \n",
    "            # Discretize state2\n",
    "            state2_adj = (state2 - env.observation_space.low)*np.array([10, 100])\n",
    "            state2_adj = np.round(state2_adj, 0).astype(int)\n",
    "            \n",
    "            if i >= (episodes - 10) and done == True and state2[0] >= 0.5:\n",
    "                print(\"***** Reached GOAL *****\")\n",
    "                time.sleep(2)\n",
    "            \n",
    "            #Allow for terminal states\n",
    "            if done and state2[0] >= 0.5:\n",
    "                Qtable[state_adj[0], state_adj[1], action] = reward\n",
    "                break\n",
    "                \n",
    "            # Adjust Q value for current state\n",
    "            else:\n",
    "                Qtable[state_adj[0], state_adj[1], action] = Qtable[state_adj[0], state_adj[1], action] * (1 - learningRate) + \\\n",
    "        learningRate * (reward + discount * np.max(Qtable[state2_adj[0], state2_adj[1]]))\n",
    "              \n",
    "           # Update variables\n",
    "            tot_reward += reward\n",
    "            state_adj = state2_adj\n",
    "            steps += 1\n",
    "            \n",
    "        # Decay epsilon\n",
    "        epsilon = min_exploration_rate + (max_exploration_rate - min_exploration_rate) * np.exp(-exploration_decay_rate*episodes)\n",
    "        \n",
    "        # Track rewards\n",
    "        reward_list.append(tot_reward)\n",
    "        reward_list1.append(tot_reward)\n",
    "        \n",
    "        # Tracks number of steps\n",
    "        total_steps.append(steps)\n",
    "        \n",
    "        if (i+1) % 1000 == 0:\n",
    "            ave_reward = np.mean(reward_list)\n",
    "            ave_reward_list.append(ave_reward)\n",
    "            reward_list = []\n",
    "            \n",
    "        if (i+1) % 1000 == 0:    \n",
    "            print('Episode {} Average Reward: {}'.format(i+1, ave_reward))\n",
    "    \n",
    "    # Print average steps per episode\n",
    "    print(\"\\nAverage number of steps taken per episode: \", np.mean(total_steps))\n",
    "    \n",
    "    # Print of epsilon at the end of the episode\n",
    "    print(\"\\nEpsilon value: \", epsilon)\n",
    "    \n",
    "    env.close()\n",
    "    \n",
    "    # Plot number of episodes vs rewards\n",
    "    plt.figure(figsize=(15,8))\n",
    "    plt.plot(np.arange(episodes), reward_list1)\n",
    "    plt.xlabel(\"Episodes\")\n",
    "    plt.ylabel(\"Rewards\")\n",
    "    plt.title(\"No. of episodes vs Rewards\")\n",
    "    \n",
    "    return np.mean(ave_reward_list)\n",
    "    \n",
    "    \n",
    "rewards = QLearning(env, 0.3, 0.99, 0.98, 1, 0.01, 0.001, 8000) \n",
    "rewards\n",
    "    \n",
    "    "
   ]
  },
  {
   "cell_type": "markdown",
   "metadata": {},
   "source": [
    "After running optimized model against hyperparameters, we found significant improvement in the reward generated. This model has successfully achieved its goal as the average reward per thousand episodes and the average reward of total episodes are less than -200."
   ]
  },
  {
   "cell_type": "markdown",
   "metadata": {
    "colab": {},
    "colab_type": "code",
    "id": "uK-xJr7NwVjY"
   },
   "source": [
    "## Trying different policy other than argmax(Q(s,a))"
   ]
  },
  {
   "cell_type": "code",
   "execution_count": 24,
   "metadata": {},
   "outputs": [
    {
     "name": "stdout",
     "output_type": "stream",
     "text": [
      "Episode 1000 Average Reward: -200.0\n",
      "Episode 2000 Average Reward: -200.0\n",
      "Episode 3000 Average Reward: -200.0\n",
      "Episode 4000 Average Reward: -200.0\n",
      "Episode 5000 Average Reward: -200.0\n",
      "Episode 6000 Average Reward: -200.0\n",
      "Episode 7000 Average Reward: -200.0\n",
      "Episode 8000 Average Reward: -200.0\n",
      "Episode 9000 Average Reward: -200.0\n",
      "Episode 10000 Average Reward: -200.0\n",
      "200.0\n"
     ]
    },
    {
     "data": {
      "text/plain": [
       "-200.0"
      ]
     },
     "execution_count": 24,
     "metadata": {},
     "output_type": "execute_result"
    }
   ],
   "source": [
    "## Define Q-learning function\n",
    "\n",
    "def QLearning(env, learningRate, discount, epsilon, max_exploration_rate, min_exploration_rate, exploration_decay_rate, episodes):\n",
    "       \n",
    "    # Initialize variables to track rewards\n",
    "    reward_list = []\n",
    "    ave_reward_list = []\n",
    "    \n",
    "    # Initialize variable to track number of steps\n",
    "    total_steps = []\n",
    "    \n",
    "        \n",
    "    ##initialize Qtable\n",
    "    Q = np.zeros((num_states[0], num_states[1], env.action_space.n)) \n",
    "    \n",
    "    for i in range(episodes):\n",
    "        \n",
    "        # initialize parameters\n",
    "        done = False\n",
    "        tot_reward, reward = 0,0\n",
    "        state = env.reset()\n",
    "        \n",
    "        # Discretize state\n",
    "        state_adj = (state - env.observation_space.low)*np.array([10, 100])\n",
    "        state_adj = np.round(state_adj, 0).astype(int)\n",
    "        \n",
    "        # initialize steps\n",
    "        steps = 0\n",
    "        \n",
    "        while done != True:\n",
    "            # Render environment for last ten episodes\n",
    "            if i >= (episodes - 10):\n",
    "                env.render()\n",
    "                                \n",
    "            # Determine next action - epsilon greedy strategy\n",
    "            if np.random.random() > epsilon:\n",
    "                ## Trying minimum argument policy\n",
    "                #action = np.argmin(Qtable[state_adj[0], state_adj[1]]) \n",
    "                ## trying random choice policy\n",
    "                action = random.choice(list(enumerate(Qtable[state_adj[0], state_adj[1]])))[0]\n",
    "            else:\n",
    "                action = np.random.randint(0, env.action_space.n)\n",
    "                \n",
    "            # Get next state and reward\n",
    "            state2, reward, done, info = env.step(action) \n",
    "            \n",
    "            # Discretize state2\n",
    "            state2_adj = (state2 - env.observation_space.low)*np.array([10, 100])\n",
    "            state2_adj = np.round(state2_adj, 0).astype(int)\n",
    "            \n",
    "            if i >= (episodes - 10) and done == True and state2[0] >= 0.5:\n",
    "                env.render()\n",
    "                print(\"***** Reached GOAL *****\")\n",
    "                time.sleep(2)\n",
    "            \n",
    "            #Allow for terminal states\n",
    "            if done and state2[0] >= 0.5:\n",
    "                Qtable[state_adj[0], state_adj[1], action] = reward\n",
    "                break\n",
    "                \n",
    "            # Adjust Q value for current state\n",
    "            else:\n",
    "                Qtable[state_adj[0], state_adj[1], action] = Qtable[state_adj[0], state_adj[1], action] * (1 - learningRate) + \\\n",
    "        learningRate * (reward + discount * np.max(Qtable[state2_adj[0], state2_adj[1]]))\n",
    "              \n",
    "           # Update variables\n",
    "            tot_reward += reward\n",
    "            state_adj = state2_adj\n",
    "            steps += 1\n",
    "            \n",
    "        # Decay epsilon\n",
    "        epsilon = min_exploration_rate + (max_exploration_rate - min_exploration_rate) * np.exp(-exploration_decay_rate*episodes)\n",
    "        \n",
    "        # Track rewards\n",
    "        reward_list.append(tot_reward)\n",
    "        \n",
    "        # Tracks number of steps\n",
    "        total_steps.append(steps)\n",
    "        \n",
    "        if (i+1) % 1000 == 0:\n",
    "            ave_reward = np.mean(reward_list)\n",
    "            ave_reward_list.append(ave_reward)\n",
    "            reward_list = []\n",
    "            \n",
    "        if (i+1) % 1000 == 0:    \n",
    "            print('Episode {} Average Reward: {}'.format(i+1, ave_reward))\n",
    "    print(np.mean(total_steps))\n",
    "        \n",
    "        \n",
    "    env.close()\n",
    "    \n",
    "    \n",
    "    return np.mean(ave_reward_list)\n",
    "    \n",
    "    \n",
    "rewards = QLearning(env, 0.3, 0.95, 0.95, 1, 0.01, 0.001, 10000) \n",
    "rewards\n",
    "    \n",
    "    "
   ]
  },
  {
   "cell_type": "markdown",
   "metadata": {},
   "source": [
    "We tried 2 different policies - argmin and random choice. Results of both of these policies are similar to that of the baseline model as both of them were unable to improve the reward generated by the model."
   ]
  },
  {
   "cell_type": "markdown",
   "metadata": {},
   "source": [
    "Q-Learning uses value-based iteration since its constantly trying to improve the value function at each iteration until the it reaches its goal.\n",
    "\n",
    "**Value Iteration**\n",
    "Value-based iteration computes the optimal state value function by iteratively improving the estimate of  value function v(s) which represent how good is a state for an agent to be in. It is equal to expected total reward for an agent starting from state s. The value function depends on the policy by which the agent picks actions to perform. \n",
    "\n",
    "**Policy Iteration**\n",
    "While value-iteration algorithm keeps improving the value function at each iteration until the value-function converges. Since the agent only cares about the finding the optimal policy, sometimes the optimal policy will converge before the value function. Therefore, another algorithm called policy-iteration instead of repeated improving the value-function estimate, it will re-define the policy at each step and compute the value according to this new policy until the policy converges. Policy iteration is also guaranteed to converge to the optimal policy and it often takes less iterations to converge than the value-iteration algorithm."
   ]
  },
  {
   "cell_type": "markdown",
   "metadata": {},
   "source": [
    "## Conclusion\n",
    "\n",
    "We trained the Q-Learning model against our baseline parameters and found that the agent was not able to reach its goal for any of the episode.\n",
    "We then tried to optimize our model by training it against different parameter values and found optimal hyperparameters. We trained the model against new hyperparameters and found that the model performance improved significantly as comapred to the baseline model. The agent was able to reach its goal and was able to achieve the average reward close to -160."
   ]
  },
  {
   "cell_type": "markdown",
   "metadata": {},
   "source": [
    "## Citations:\n",
    "In order to finish this project, I took help from below sources:\n",
    "- https://en.wikipedia.org/wiki/Q-learning\n",
    "- https://medium.com/@m.alzantot/deep-reinforcement-learning-demysitifed-episode-2-policy-iteration-value-iteration-and-q-978f9e89ddaa\n",
    "- https://towardsdatascience.com/getting-started-with-reinforcement-learning-and-open-ai-gym-c289aca874f"
   ]
  },
  {
   "cell_type": "markdown",
   "metadata": {},
   "source": [
    "#  Copyright 2020 Sachin\n",
    "\n",
    "Permission is hereby granted, free of charge, to any person obtaining a copy of this software and associated documentation files (the \"Software\"), to deal in the Software without restriction, including without limitation the rights to use, copy, modify, merge, publish, distribute, sublicense, and/or sell copies of the Software, and to permit persons to whom the Software is furnished to do so, subject to the following conditions:\n",
    "\n",
    "The above copyright notice and this permission notice shall be included in all copies or substantial portions of the Software.\n",
    "\n",
    "THE SOFTWARE IS PROVIDED \"AS IS\", WITHOUT WARRANTY OF ANY KIND, EXPRESS OR IMPLIED, INCLUDING BUT NOT LIMITED TO THE WARRANTIES OF MERCHANTABILITY, FITNESS FOR A PARTICULAR PURPOSE AND NONINFRINGEMENT. IN NO EVENT SHALL THE AUTHORS OR COPYRIGHT HOLDERS BE LIABLE FOR ANY CLAIM, DAMAGES OR OTHER LIABILITY, WHETHER IN AN ACTION OF CONTRACT, TORT OR OTHERWISE, ARISING FROM, OUT OF OR IN CONNECTION WITH THE SOFTWARE OR THE USE OR OTHER DEALINGS IN THE SOFTWARE."
   ]
  }
 ],
 "metadata": {
  "accelerator": "GPU",
  "colab": {
   "collapsed_sections": [],
   "name": "ADS_Assign2_MountainCar.ipynb",
   "provenance": []
  },
  "kernelspec": {
   "display_name": "Python 3",
   "language": "python",
   "name": "python3"
  },
  "language_info": {
   "codemirror_mode": {
    "name": "ipython",
    "version": 3
   },
   "file_extension": ".py",
   "mimetype": "text/x-python",
   "name": "python",
   "nbconvert_exporter": "python",
   "pygments_lexer": "ipython3",
   "version": "3.7.3"
  }
 },
 "nbformat": 4,
 "nbformat_minor": 4
}
